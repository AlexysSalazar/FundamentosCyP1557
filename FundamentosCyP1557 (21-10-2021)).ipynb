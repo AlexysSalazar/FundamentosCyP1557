{
  "nbformat": 4,
  "nbformat_minor": 0,
  "metadata": {
    "colab": {
      "name": "FundamentosCyP1557.ipynb",
      "provenance": [],
      "collapsed_sections": []
    },
    "kernelspec": {
      "name": "python3",
      "display_name": "Python 3"
    },
    "language_info": {
      "name": "python"
    }
  },
  "cells": [
    {
      "cell_type": "markdown",
      "metadata": {
        "id": "u2CQymGj17fT"
      },
      "source": [
        "# 12/10/2021"
      ]
    },
    {
      "cell_type": "code",
      "metadata": {
        "colab": {
          "base_uri": "https://localhost:8080/"
        },
        "id": "xzMII7_cVeAu",
        "outputId": "7306f73e-55bf-45f4-c65d-e34094901a41"
      },
      "source": [
        "nombre = 'jose' # Tipo de dat String (cadena de caracteres)\n",
        "print( nombre)"
      ],
      "execution_count": null,
      "outputs": [
        {
          "output_type": "stream",
          "name": "stdout",
          "text": [
            "jose\n"
          ]
        }
      ]
    },
    {
      "cell_type": "markdown",
      "metadata": {
        "id": "FWKI6mggXMFx"
      },
      "source": [
        "# Tipos de datos en Python\n",
        "###Tipos simples\n",
        "- spr --> Sting cadena de caracteres\n",
        "- int --> Numeros enteros\n",
        "-float --> Numeros de notacon de punto flotante\n",
        "-complex --> Numeros complejos\n",
        "- bool --> Boleano (True or False)\n",
        "- byte --> 8 bits\n",
        "### Tipos Estructurados (Compuestos)\n",
        "- list --> Listas (Arreglos en otros leng)\n",
        "- dict --> Diccionarios\n",
        "- set y frozenset --> conjuntos\n",
        "- tuple --> Listas no mutables\n"
      ]
    },
    {
      "cell_type": "code",
      "metadata": {
        "id": "dwRAUBiG13BT"
      },
      "source": [
        ""
      ],
      "execution_count": null,
      "outputs": []
    },
    {
      "cell_type": "code",
      "metadata": {
        "id": "8bAwEEHCltzd"
      },
      "source": [
        "#operador modulo\n",
        "numero = 21 \n",
        "print (numero /2)\n",
        "print (numero //2)\n",
        "#el operador modulo da como resultado el residuo de una dicision entera\n",
        "print( numero % 2)\n",
        "#el operador modulo es el signo de porciento \"%\"\n",
        "\n",
        "numero = 24\n",
        "print(\"Residuo de 24 / 5 es igual a\", numero % 5)\n",
        "\n",
        "#operadores relacionales (logicos)\n",
        "\n",
        "#para saber si un numero es par\n",
        "print(\"24 es par \", numero % 2 == 0)\n",
        "\n",
        "#diferencias\n",
        "\n",
        "print(\"24 es diferente a 23 \", numero != 23)\n",
        "print(\"24 es mayor que 23\", numero > 24)\n",
        "print(\"24 es menor a 23\", numero <23 )\n",
        "\n",
        "print(\"24 es mayor o igual a 24\", numero <= 24 )\n",
        "print(\"24 es menor o igual a 23\", numero <= 23 )\n",
        "\n",
        "print(\"El tipo de dato de la var numero es: \", type(numero))\n",
        "print(\"El tipo de dato de la var numero/2.0 es: \", type(numero/2.0))"
      ],
      "execution_count": null,
      "outputs": []
    },
    {
      "cell_type": "markdown",
      "metadata": {
        "id": "Zg-sfjsvpsnD"
      },
      "source": [
        "# Tipo de deato String (str) en Pyton\n",
        "\n",
        "- Temaneja como un arreglo (tipo de dato de concepto)\n",
        "- Sepuede acceder a los elementos de el string por medio del indice del caracter.\n",
        "- Mutable\n",
        "- Tiene metodos utiles(potentes)\n",
        "- Slicing"
      ]
    },
    {
      "cell_type": "code",
      "metadata": {
        "id": "Q7Bs5V01qTFk"
      },
      "source": [
        "nombre = 'Jose'\n",
        "carrera = \"ingenieria en computacion\"\n",
        "frase = \"\"\" El conocimiento\n",
        "me persigue,...\n",
        "pero\n",
        "yo soy mas rapido\n",
        "\"\"\"\n",
        "print(nombre)\n",
        "print(carrera)\n",
        "print(frase)\n",
        "\n",
        "#La funcion type de python te devuelve el tipo de dato de una variable\n",
        "print( type(nombre))"
      ],
      "execution_count": null,
      "outputs": []
    },
    {
      "cell_type": "markdown",
      "metadata": {
        "id": "hVU_YJiBpuk9"
      },
      "source": [
        "## Una clase (Class) es un tipo de dato compuesto"
      ]
    },
    {
      "cell_type": "code",
      "metadata": {
        "id": "uWkvj6XJrZTl"
      },
      "source": [
        "carrera = \"ingenieria en computacion\"\n",
        "print(carrera)\n",
        "print (carrera[2])"
      ],
      "execution_count": null,
      "outputs": []
    },
    {
      "cell_type": "markdown",
      "metadata": {
        "id": "XjC6ehpbrrUu"
      },
      "source": [
        "# A la sintacis escrita para elegir un elemento de un grupo de datos se le llama selector.\n",
        "En el caso de Strings y listas (lst) se usan los caracteres []\n",
        "\n",
        "1. En todos los lenguajes los arreglos inician en .\n",
        "2. En python no existe como tal el tipo de dato arreglo, el concepto es sustituido por las listas.\n",
        "3. Los strings se comportan como un arreglo en la maoria de los lenguajes.\n",
        "4. En python se acepta el indexado negativo,\n",
        "en otros lenguajes no"
      ]
    },
    {
      "cell_type": "code",
      "metadata": {
        "id": "_8l6N7WMsbtH"
      },
      "source": [
        "carrera = \"Ingenieria en computacion\"\n",
        "print(carrera)\n",
        "print (carrera[8])\n",
        "print (carrera [24])\n",
        "print(carrera [-21])\n",
        "print(carrera [-25])\n",
        "\n",
        "\n",
        "#adelantndo el tema del ciclo FOR\n",
        "\n",
        "for letra in carrera:\n",
        "  print(\"-->\", letra ,\"<---\")\n",
        "\n"
      ],
      "execution_count": null,
      "outputs": []
    },
    {
      "cell_type": "markdown",
      "metadata": {
        "id": "N5viWV6Uu9nK"
      },
      "source": [
        "# Slicing (rebanado ) de cadenas\n",
        "Permite el seleccionar subcadenas con el operador \n",
        "### [ inicio : stop : incremento ]\n",
        "el stop no se incluye, es por eso que debemos agregar una poscicion extra\n",
        "### Slicing y valores por defecto\n",
        "inicio por defecto siempre sera 0\n",
        "\n",
        "stop: tamano del arreglo (indexado positivo)\n",
        "0 (en un indexado positivo)\n",
        "\n",
        "Incremento: es 1 (indexado positivo)"
      ]
    },
    {
      "cell_type": "code",
      "metadata": {
        "id": "SiRbY44YvV0w"
      },
      "source": [
        "carrera = \"Ingenieria en computacion\"\n",
        "print(carrera[0:10:1])\n",
        "print(carrera[14:25:1])\n",
        "print(carrera[-11:-1:1])\n",
        "print(carrera[:10:])\n",
        "print(carrera[14:25:])\n",
        "print(carrera[-11::])"
      ],
      "execution_count": null,
      "outputs": []
    },
    {
      "cell_type": "markdown",
      "metadata": {
        "id": "Y6x9WDfT-7Qb"
      },
      "source": [
        "#14/10/2021"
      ]
    },
    {
      "cell_type": "markdown",
      "metadata": {
        "id": "_A-2CnFA0lSF"
      },
      "source": [
        "#String y sus metodos\n",
        "# Todos tipos de datos en python son \n",
        "## dir() y help() funciones para obtener ayuda del lenguaje \n",
        "- Dir muestra las funciones de un tipo de datos como resumen.\n",
        "- help mustra la misma ayuda pero a detalle \n",
        "\n",
        "Metodos que inician son __ son privados de uso interno de deberiamos usarlos.\n",
        "Todos los demas son para uso exterior (usuarios)"
      ]
    },
    {
      "cell_type": "code",
      "metadata": {
        "id": "hJRIRqRV1UX8"
      },
      "source": [
        "frutas = \" limon , fresa , manzana , aguacate \"\n",
        "nombre = \"jose\"\n",
        "print (frutas)\n",
        "\n",
        "print(nombre.capitalize() )\n",
        "print(nombre.upper() )\n",
        "print(frutas.replace('a' , '4').replace('e','3'))\n",
        "frutas = frutas.replace('a' , '4').replace('e','3')\n",
        "print (frutas)\n",
        "print (\".-.-.-.-.-.-.-.-.-.--.-.-.-.-.-.-.-\")\n",
        "frutas = \"limon , fresa , manzana , aguacate \" \n",
        "print (frutas.strip()) #elimina el espacio basura\n",
        "print ( )\n",
        "print (frutas.split(',')) #separa por espacios o dependiendo a lo que tu quieras\n",
        "#separar\n",
        "print(frutas.index('mon'))"
      ],
      "execution_count": null,
      "outputs": []
    },
    {
      "cell_type": "markdown",
      "metadata": {
        "id": "jiqWP3Fv6wu-"
      },
      "source": [
        "#21/10/2021"
      ]
    },
    {
      "cell_type": "markdown",
      "metadata": {
        "id": "5ocEPwkk8cY0"
      },
      "source": [
        "#String y caracteres de escape\n",
        "- \\\" --> \"\n",
        "- \\' --> ' \n",
        "- \\n --> Salto en linea (como la tecla enter) \n",
        "- \\t --> Tabulador espacios a la izquierda\n",
        "- \\uxxxx --> Caracteres unicode\n",
        "- \\Uxxxxxxxx --> unicode extendido\n"
      ]
    },
    {
      "cell_type": "code",
      "metadata": {
        "id": "gucBAVHm80xj"
      },
      "source": [
        "print (\"\\\"Jose\\\"\") \n",
        "nombre = \"\\\"jose\\\"\"\n",
        "print (nombre)\n",
        "carrera = ('Ingenieria \\n\\ten \\n\\tcomputacion')\n",
        "print (carrera)\n",
        "print(\"\\u0065\")\n",
        "print(\"\\u0444\")\n",
        "print(\"\\u0620\")\n",
        "print(\"\\U00010057\")\n",
        "print(\"\\U0001F604\")\n",
        "print(\"¯ \\ _ (ツ) _ / ¯\")"
      ],
      "execution_count": null,
      "outputs": []
    },
    {
      "cell_type": "markdown",
      "metadata": {
        "id": "qFOqSFyKyM0Q"
      },
      "source": [
        "#Funcion Ptint\n",
        "## Se emplea para desplegar informacion en la salida estandar, normalmente es el monitor\n",
        "### formas de usar Print\n",
        "- el argumento por defecto  de print (end)\n",
        "- format()\n",
        "- operador F\" \"\n"
      ]
    },
    {
      "cell_type": "code",
      "metadata": {
        "id": "MyLA_LsuzEMG",
        "colab": {
          "base_uri": "https://localhost:8080/"
        },
        "outputId": "d7dfcf95-2fa9-4d07-e7ca-d0507f320fec"
      },
      "source": [
        "nombre = \"Jose\"\n",
        "edad =18\n",
        "casado = False\n",
        "estatura= 1.67\n",
        "\"\"\"\n",
        "Nombre: Jose\n",
        "Edad: 18\n",
        "Esta casado: False\n",
        "Estatura en metros: 1.67\n",
        "\"\"\"\n",
        "# 1.- Con comas: concatena haciendo un casting con string y agreag un espacio\n",
        "print(nombre,edad,casado,estatura)\n",
        "print(\"Nombre\" + nombre + \"\\n\\tEdad: \"+ str(edad) + \"\\n\\tEsta casado: \"+ str(casado) + \"\\n\\tEstatura en Metros\" +str(estatura))\n",
        "\n",
        "#2.- con el simbolo de \"+\"\n",
        "# Concanenacion en crudo\n",
        "print(nombre +\" \" + str(edad)+ \" \" + str(casado)+ \" \" + str(estatura) )\n",
        "\n",
        "#3.- Dando formato a la salida con format\n",
        "print(\"\\n Con la funcion format()\")\n",
        "print(\"\\tNombre: {} \\n\\tEdad: {}\\n\\tEsta casado: {}\\n\\tEstatura en metros:{}\".format(nombre,edad,casado,estatura))\n",
        "\n",
        "#4.- Con el operador f \"\"\n",
        "print(\"\\nCon el operador f\\\"\\\"\")\n",
        "print(f\"\\tNombre: {nombre} \\n\\tEdad: {edad}\\n\\tEsta casado: {casado}\\n\\tEstatura en metros:{estatura}\".format(nombre,edad,casado,estatura))\n",
        "\n",
        "\n",
        "#Como manejar el argumento end\n",
        "print(\"\\nComo usar el argumento end=\")\n",
        "print(f\"Hola {nombre} \", end=\"\")\n",
        "print(\", Como estas?\", end=\"\\n\")\n"
      ],
      "execution_count": null,
      "outputs": [
        {
          "output_type": "stream",
          "name": "stdout",
          "text": [
            "Jose 18 False 1.67\n",
            "NombreJose\n",
            "\tEdad: 18\n",
            "\tEsta casado: False\n",
            "\tEstatura en Metros1.67\n",
            "Jose 18 False 1.67\n",
            "\n",
            " Con la funcion format()\n",
            "\tNombre: Jose \n",
            "\tEdad: 18\n",
            "\tEsta casado: False\n",
            "\tEstatura en metros:1.67\n",
            "\n",
            "Con el operador f\"\"\n",
            "\tNombre: Jose \n",
            "\tEdad: 18\n",
            "\tEsta casado: False\n",
            "\tEstatura en metros:1.67\n",
            "\n",
            "Como usar el argumento end=\n",
            "Hola Jose , Como estas?\n"
          ]
        }
      ]
    },
    {
      "cell_type": "code",
      "metadata": {
        "id": "EGMfYB2TAqBV"
      },
      "source": [
        ""
      ],
      "execution_count": null,
      "outputs": []
    }
  ]
}
