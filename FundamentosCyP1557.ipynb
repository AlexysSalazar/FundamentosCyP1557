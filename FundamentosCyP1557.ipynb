{
  "nbformat": 4,
  "nbformat_minor": 0,
  "metadata": {
    "colab": {
      "name": "FundamentosCyP1557.ipynb",
      "provenance": [],
      "collapsed_sections": []
    },
    "kernelspec": {
      "name": "python3",
      "display_name": "Python 3"
    },
    "language_info": {
      "name": "python"
    }
  },
  "cells": [
    {
      "cell_type": "markdown",
      "metadata": {
        "id": "u2CQymGj17fT"
      },
      "source": [
        "# 12/10/2021"
      ]
    },
    {
      "cell_type": "code",
      "metadata": {
        "colab": {
          "base_uri": "https://localhost:8080/"
        },
        "id": "xzMII7_cVeAu",
        "outputId": "7306f73e-55bf-45f4-c65d-e34094901a41"
      },
      "source": [
        "nombre = 'jose' # Tipo de dat String (cadena de caracteres)\n",
        "print( nombre)"
      ],
      "execution_count": 1,
      "outputs": [
        {
          "output_type": "stream",
          "name": "stdout",
          "text": [
            "jose\n"
          ]
        }
      ]
    },
    {
      "cell_type": "markdown",
      "metadata": {
        "id": "FWKI6mggXMFx"
      },
      "source": [
        "# Tipos de datos en Python\n",
        "###Tipos simples\n",
        "- spr --> Sting cadena de caracteres\n",
        "- int --> Numeros enteros\n",
        "-float --> Numeros de notacon de punto flotante\n",
        "-complex --> Numeros complejos\n",
        "- bool --> Boleano (True or False)\n",
        "- byte --> 8 bits\n",
        "### Tipos Estructurados (Compuestos)\n",
        "- list --> Listas (Arreglos en otros leng)\n",
        "- dict --> Diccionarios\n",
        "- set y frozenset --> conjuntos\n",
        "- tuple --> Listas no mutables\n"
      ]
    },
    {
      "cell_type": "code",
      "metadata": {
        "id": "dwRAUBiG13BT"
      },
      "source": [
        ""
      ],
      "execution_count": null,
      "outputs": []
    },
    {
      "cell_type": "code",
      "metadata": {
        "id": "8bAwEEHCltzd"
      },
      "source": [
        "#operador modulo\n",
        "numero = 21 \n",
        "print (numero /2)\n",
        "print (numero //2)\n",
        "#el operador modulo da como resultado el residuo de una dicision entera\n",
        "print( numero % 2)\n",
        "#el operador modulo es el signo de porciento \"%\"\n",
        "\n",
        "numero = 24\n",
        "print(\"Residuo de 24 / 5 es igual a\", numero % 5)\n",
        "\n",
        "#operadores relacionales (logicos)\n",
        "\n",
        "#para saber si un numero es par\n",
        "print(\"24 es par \", numero % 2 == 0)\n",
        "\n",
        "#diferencias\n",
        "\n",
        "print(\"24 es diferente a 23 \", numero != 23)\n",
        "print(\"24 es mayor que 23\", numero > 24)\n",
        "print(\"24 es menor a 23\", numero <23 )\n",
        "\n",
        "print(\"24 es mayor o igual a 24\", numero <= 24 )\n",
        "print(\"24 es menor o igual a 23\", numero <= 23 )\n",
        "\n",
        "print(\"El tipo de dato de la var numero es: \", type(numero))\n",
        "print(\"El tipo de dato de la var numero/2.0 es: \", type(numero/2.0))"
      ],
      "execution_count": null,
      "outputs": []
    },
    {
      "cell_type": "markdown",
      "metadata": {
        "id": "Zg-sfjsvpsnD"
      },
      "source": [
        "# Tipo de deato String (str) en Pyton\n",
        "\n",
        "- Temaneja como un arreglo (tipo de dato de concepto)\n",
        "- Sepuede acceder a los elementos de el string por medio del indice del caracter.\n",
        "- Mutable\n",
        "- Tiene metodos utiles(potentes)\n",
        "- Slicing"
      ]
    },
    {
      "cell_type": "code",
      "metadata": {
        "colab": {
          "base_uri": "https://localhost:8080/"
        },
        "id": "Q7Bs5V01qTFk",
        "outputId": "400fb6b3-689b-430e-88ba-465f0ca30713"
      },
      "source": [
        "nombre = 'Jose'\n",
        "carrera = \"ingenieria en computacion\"\n",
        "frase = \"\"\" El conocimiento\n",
        "me persigue,...\n",
        "pero\n",
        "yo soy mas rapido\n",
        "\"\"\"\n",
        "print(nombre)\n",
        "print(carrera)\n",
        "print(frase)\n",
        "\n",
        "#La funcion type de python te devuelve el tipo de dato de una variable\n",
        "print( type(nombre))"
      ],
      "execution_count": 37,
      "outputs": [
        {
          "output_type": "stream",
          "name": "stdout",
          "text": [
            "Jose\n",
            "ingenieria en computacion\n",
            " El conocimiento\n",
            "me persigue,...\n",
            "pero\n",
            "yo soy mas rapido\n",
            "\n",
            "<class 'str'>\n"
          ]
        }
      ]
    }
  ]
}